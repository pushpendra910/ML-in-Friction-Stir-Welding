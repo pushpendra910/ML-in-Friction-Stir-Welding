{
 "cells": [
  {
   "cell_type": "code",
   "execution_count": 2,
   "metadata": {},
   "outputs": [],
   "source": [
    "import pandas as pd\n",
    "import matplotlib.pyplot as plt\n",
    "import numpy as np\n",
    "import seaborn as sns"
   ]
  },
  {
   "cell_type": "code",
   "execution_count": 3,
   "metadata": {},
   "outputs": [
    {
     "data": {
      "text/html": [
       "<div>\n",
       "<style scoped>\n",
       "    .dataframe tbody tr th:only-of-type {\n",
       "        vertical-align: middle;\n",
       "    }\n",
       "\n",
       "    .dataframe tbody tr th {\n",
       "        vertical-align: top;\n",
       "    }\n",
       "\n",
       "    .dataframe thead th {\n",
       "        text-align: right;\n",
       "    }\n",
       "</style>\n",
       "<table border=\"1\" class=\"dataframe\">\n",
       "  <thead>\n",
       "    <tr style=\"text-align: right;\">\n",
       "      <th></th>\n",
       "      <th>Unnamed: 0</th>\n",
       "      <th>image_name</th>\n",
       "      <th>Grain_size_in_pixels</th>\n",
       "      <th>ferrite_%</th>\n",
       "      <th>pearlite_%</th>\n",
       "      <th>Grain size in micron</th>\n",
       "      <th>phase_ratio</th>\n",
       "      <th>Grain_size_number</th>\n",
       "    </tr>\n",
       "  </thead>\n",
       "  <tbody>\n",
       "    <tr>\n",
       "      <th>0</th>\n",
       "      <td>0</td>\n",
       "      <td>Specimen 1 WM+WM1@1000X.bmp</td>\n",
       "      <td>7.831706</td>\n",
       "      <td>82.878282</td>\n",
       "      <td>17.121718</td>\n",
       "      <td>0.641943</td>\n",
       "      <td>4.840536</td>\n",
       "      <td>10.993419</td>\n",
       "    </tr>\n",
       "    <tr>\n",
       "      <th>1</th>\n",
       "      <td>1</td>\n",
       "      <td>Specimen 1 WM+WM1@100X.bmp</td>\n",
       "      <td>15.366231</td>\n",
       "      <td>57.873987</td>\n",
       "      <td>42.126013</td>\n",
       "      <td>12.595271</td>\n",
       "      <td>1.373830</td>\n",
       "      <td>9.349474</td>\n",
       "    </tr>\n",
       "    <tr>\n",
       "      <th>2</th>\n",
       "      <td>2</td>\n",
       "      <td>Specimen 1 WM+WM1@200X.bmp</td>\n",
       "      <td>16.026924</td>\n",
       "      <td>71.533655</td>\n",
       "      <td>28.466345</td>\n",
       "      <td>6.568412</td>\n",
       "      <td>2.512920</td>\n",
       "      <td>9.876180</td>\n",
       "    </tr>\n",
       "    <tr>\n",
       "      <th>3</th>\n",
       "      <td>3</td>\n",
       "      <td>Specimen 1 WM+WM1@500X.bmp</td>\n",
       "      <td>12.267372</td>\n",
       "      <td>79.904514</td>\n",
       "      <td>20.095486</td>\n",
       "      <td>2.011045</td>\n",
       "      <td>3.976242</td>\n",
       "      <td>10.503558</td>\n",
       "    </tr>\n",
       "    <tr>\n",
       "      <th>4</th>\n",
       "      <td>4</td>\n",
       "      <td>Specimen 1 WM+WM2@1000X.bmp</td>\n",
       "      <td>7.445130</td>\n",
       "      <td>82.860198</td>\n",
       "      <td>17.139802</td>\n",
       "      <td>0.610257</td>\n",
       "      <td>4.834373</td>\n",
       "      <td>10.907925</td>\n",
       "    </tr>\n",
       "  </tbody>\n",
       "</table>\n",
       "</div>"
      ],
      "text/plain": [
       "   Unnamed: 0                   image_name  Grain_size_in_pixels  ferrite_%  \\\n",
       "0           0  Specimen 1 WM+WM1@1000X.bmp              7.831706  82.878282   \n",
       "1           1   Specimen 1 WM+WM1@100X.bmp             15.366231  57.873987   \n",
       "2           2   Specimen 1 WM+WM1@200X.bmp             16.026924  71.533655   \n",
       "3           3   Specimen 1 WM+WM1@500X.bmp             12.267372  79.904514   \n",
       "4           4  Specimen 1 WM+WM2@1000X.bmp              7.445130  82.860198   \n",
       "\n",
       "   pearlite_%  Grain size in micron  phase_ratio  Grain_size_number  \n",
       "0   17.121718              0.641943     4.840536          10.993419  \n",
       "1   42.126013             12.595271     1.373830           9.349474  \n",
       "2   28.466345              6.568412     2.512920           9.876180  \n",
       "3   20.095486              2.011045     3.976242          10.503558  \n",
       "4   17.139802              0.610257     4.834373          10.907925  "
      ]
     },
     "execution_count": 3,
     "metadata": {},
     "output_type": "execute_result"
    }
   ],
   "source": [
    "data=pd.read_csv(\"D:\\Important\\M.Teh thesis\\For ML pushpendra\\ML for thesis\\ML-in-Friction-Stir-Welding\\data.csv\")\n",
    "data.head()"
   ]
  },
  {
   "cell_type": "code",
   "execution_count": null,
   "metadata": {},
   "outputs": [],
   "source": []
  }
 ],
 "metadata": {
  "kernelspec": {
   "display_name": "thesis",
   "language": "python",
   "name": "python3"
  },
  "language_info": {
   "codemirror_mode": {
    "name": "ipython",
    "version": 3
   },
   "file_extension": ".py",
   "mimetype": "text/x-python",
   "name": "python",
   "nbconvert_exporter": "python",
   "pygments_lexer": "ipython3",
   "version": "3.9.16"
  },
  "orig_nbformat": 4
 },
 "nbformat": 4,
 "nbformat_minor": 2
}
